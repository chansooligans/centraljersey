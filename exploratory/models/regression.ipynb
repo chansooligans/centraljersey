{
 "cells": [
  {
   "attachments": {},
   "cell_type": "markdown",
   "metadata": {},
   "source": [
    "# Regression Model Exploratory"
   ]
  },
  {
   "attachments": {},
   "cell_type": "markdown",
   "metadata": {},
   "source": [
    "#### Load"
   ]
  },
  {
   "cell_type": "code",
   "execution_count": 2,
   "metadata": {},
   "outputs": [
    {
     "name": "stdout",
     "output_type": "stream",
     "text": [
      "The autoreload extension is already loaded. To reload it, use:\n",
      "  %reload_ext autoreload\n"
     ]
    },
    {
     "name": "stderr",
     "output_type": "stream",
     "text": [
      "/home/chansoo/projects/centraljersey/centraljersey/models.py:17: FutureWarning: The `op` parameter is deprecated and will be removed in a future release. Please use the `predicate` parameter instead.\n",
      "  self.df_county = self.merger.df_counties\n"
     ]
    }
   ],
   "source": [
    "from IPython import get_ipython\n",
    "if get_ipython() is not None:\n",
    "    get_ipython().run_line_magic(\"load_ext\", \"autoreload\")\n",
    "    get_ipython().run_line_magic(\"autoreload\", \"2\")\n",
    "\n",
    "import model_funcs as mf\n",
    "\n",
    "import numpy as np\n",
    "import statsmodels.api as sm\n",
    "from sklearn.linear_model import LogisticRegression\n",
    "\n",
    "from centraljersey import merge, preprocess\n",
    "\n",
    "from centraljersey.models import PredictionModels\n",
    "model = PredictionModels()\n",
    "df = model.df_tracts\n",
    "\n",
    "culture_variables = [\n",
    "    \"dunkin_id\",\n",
    "    \"wawa_id\",\n",
    "    \"giants_or_jets\",\n",
    "    \"pork_roll\",\n",
    "    \"calm-no-l\",\n",
    "    \"almond-no-l\",\n",
    "    \"forward-no-r\",\n",
    "    \"drawer\",\n",
    "    \"gone-don\",\n",
    "]\n",
    "\n",
    "census_variables = [\n",
    "    \"white_pop\",\n",
    "    \"black_pop\",\n",
    "    \"asian_pop\",\n",
    "    \"occu_Agricul/fish/mining/forest\",\n",
    "    \"occu_Construction\",\n",
    "    \"occu_Manufacturing\",\n",
    "    \"occu_Wholesale trade\",\n",
    "    \"occu_Retail trade\",\n",
    "    \"occu_transport/warehouse/utils\",\n",
    "    \"occu_Information\",\n",
    "    \"occu_finance/insurance/realestate\",\n",
    "    \"occu_administrative\",\n",
    "    \"occu_educational/healthcare/social\",\n",
    "    \"occu_arts/entertainment/foodservices\",\n",
    "    \"occu_public administration\",\n",
    "    \"occu_management, business\",\n",
    "    \"occu_Service occupations:\",\n",
    "    \"occu_Sales and office occupations:\",\n",
    "    \"occu_Natural resources, construction\",\n",
    "    \"occu_production/transport/materials\",\n",
    "    \"income_150k+\",\n",
    "    \"pob_foreign_born\",\n",
    "    \"edu_college\",\n",
    "]"
   ]
  },
  {
   "attachments": {},
   "cell_type": "markdown",
   "metadata": {},
   "source": [
    "#### Train/Test"
   ]
  },
  {
   "cell_type": "code",
   "execution_count": 58,
   "metadata": {},
   "outputs": [],
   "source": [
    "model_cols = [\n",
    "    'dunkin_id',\n",
    "    'wawa_id',\n",
    "    'giants_or_jets',\n",
    "    'pork_roll',\n",
    "    'calm-no-l',\n",
    "    'almond-no-l',\n",
    "    'forward-no-r',\n",
    "    'drawer',\n",
    "    'gone-don',\n",
    "    # 'white_pop',\n",
    "    'black_pop',\n",
    "    'asian_pop',\n",
    "    # 'occu_Agricul/fish/mining/forest',\n",
    "    # 'occu_Construction',\n",
    "    # 'occu_Manufacturing',\n",
    "    # 'occu_Wholesale trade',\n",
    "    # 'occu_Retail trade',\n",
    "    # 'occu_transport/warehouse/utils',\n",
    "    # 'occu_Information',\n",
    "    # 'occu_finance/insurance/realestate',\n",
    "    # 'occu_administrative',\n",
    "    # 'occu_educational/healthcare/social',\n",
    "    # 'occu_arts/entertainment/foodservices',\n",
    "    # 'occu_public administration',\n",
    "    # 'occu_management, business',\n",
    "    # 'occu_Service occupations:',\n",
    "    # 'occu_Sales and office occupations:',\n",
    "    # 'occu_Natural resources, construction',\n",
    "    # 'occu_production/transport/materials',\n",
    "    'income_150k+',\n",
    "    'pob_foreign_born',\n",
    "    'edu_college'\n",
    "]"
   ]
  },
  {
   "cell_type": "code",
   "execution_count": 3,
   "metadata": {},
   "outputs": [
    {
     "ename": "AttributeError",
     "evalue": "module 'statsmodels' has no attribute 'add_constant'",
     "output_type": "error",
     "traceback": [
      "\u001b[0;31m---------------------------------------------------------------------------\u001b[0m",
      "\u001b[0;31mAttributeError\u001b[0m                            Traceback (most recent call last)",
      "Cell \u001b[0;32mIn[3], line 1\u001b[0m\n\u001b[0;32m----> 1\u001b[0m mf\u001b[39m.\u001b[39;49msplit_data(df\u001b[39m=\u001b[39;49mdf, \u001b[39mvars\u001b[39;49m\u001b[39m=\u001b[39;49mculture_variables)\n",
      "File \u001b[0;32m~/projects/centraljersey/exploratory/models/model_funcs.py:6\u001b[0m, in \u001b[0;36msplit_data\u001b[0;34m(df, vars)\u001b[0m\n\u001b[1;32m      4\u001b[0m \u001b[39mdef\u001b[39;00m \u001b[39msplit_data\u001b[39m(df, \u001b[39mvars\u001b[39m):\n\u001b[1;32m      5\u001b[0m     X_train \u001b[39m=\u001b[39m df\u001b[39m.\u001b[39mloc[df[\u001b[39m'\u001b[39m\u001b[39mlabel\u001b[39m\u001b[39m'\u001b[39m]\u001b[39m.\u001b[39mnotnull(), \u001b[39mvars\u001b[39m]\n\u001b[0;32m----> 6\u001b[0m     X_train \u001b[39m=\u001b[39m sm\u001b[39m.\u001b[39;49madd_constant(X_train)\n\u001b[1;32m      7\u001b[0m     y_train \u001b[39m=\u001b[39m df\u001b[39m.\u001b[39mloc[df[\u001b[39m'\u001b[39m\u001b[39mlabel\u001b[39m\u001b[39m'\u001b[39m]\u001b[39m.\u001b[39mnotnull(), [\u001b[39m'\u001b[39m\u001b[39mlabel\u001b[39m\u001b[39m'\u001b[39m]]\u001b[39m.\u001b[39mastype(\u001b[39mint\u001b[39m)\n\u001b[1;32m      9\u001b[0m     X_test \u001b[39m=\u001b[39m df\u001b[39m.\u001b[39mloc[df[\u001b[39m'\u001b[39m\u001b[39mlabel\u001b[39m\u001b[39m'\u001b[39m]\u001b[39m.\u001b[39misnull(), \u001b[39mvars\u001b[39m]\n",
      "\u001b[0;31mAttributeError\u001b[0m: module 'statsmodels' has no attribute 'add_constant'"
     ]
    }
   ],
   "source": [
    "mf.split_data(df=df, vars=culture_variables)"
   ]
  },
  {
   "cell_type": "code",
   "execution_count": 51,
   "metadata": {},
   "outputs": [
    {
     "name": "stdout",
     "output_type": "stream",
     "text": [
      "Warning: Maximum number of iterations has been exceeded.\n",
      "         Current function value: inf\n",
      "         Iterations: 35\n"
     ]
    },
    {
     "name": "stderr",
     "output_type": "stream",
     "text": [
      "/home/chansoo/projects/centraljersey/.venv/lib/python3.9/site-packages/statsmodels/discrete/discrete_model.py:227: PerfectSeparationWarning: Perfect separation or prediction detected, parameter may not be identified\n",
      "  warnings.warn(msg, category=PerfectSeparationWarning)\n",
      "/home/chansoo/projects/centraljersey/.venv/lib/python3.9/site-packages/statsmodels/discrete/discrete_model.py:227: PerfectSeparationWarning: Perfect separation or prediction detected, parameter may not be identified\n",
      "  warnings.warn(msg, category=PerfectSeparationWarning)\n",
      "/home/chansoo/projects/centraljersey/.venv/lib/python3.9/site-packages/statsmodels/discrete/discrete_model.py:227: PerfectSeparationWarning: Perfect separation or prediction detected, parameter may not be identified\n",
      "  warnings.warn(msg, category=PerfectSeparationWarning)\n",
      "/home/chansoo/projects/centraljersey/.venv/lib/python3.9/site-packages/statsmodels/discrete/discrete_model.py:227: PerfectSeparationWarning: Perfect separation or prediction detected, parameter may not be identified\n",
      "  warnings.warn(msg, category=PerfectSeparationWarning)\n",
      "/home/chansoo/projects/centraljersey/.venv/lib/python3.9/site-packages/statsmodels/discrete/discrete_model.py:227: PerfectSeparationWarning: Perfect separation or prediction detected, parameter may not be identified\n",
      "  warnings.warn(msg, category=PerfectSeparationWarning)\n",
      "/home/chansoo/projects/centraljersey/.venv/lib/python3.9/site-packages/statsmodels/discrete/discrete_model.py:227: PerfectSeparationWarning: Perfect separation or prediction detected, parameter may not be identified\n",
      "  warnings.warn(msg, category=PerfectSeparationWarning)\n",
      "/home/chansoo/projects/centraljersey/.venv/lib/python3.9/site-packages/statsmodels/discrete/discrete_model.py:2383: RuntimeWarning: overflow encountered in exp\n",
      "  return 1/(1+np.exp(-X))\n",
      "/home/chansoo/projects/centraljersey/.venv/lib/python3.9/site-packages/statsmodels/discrete/discrete_model.py:2441: RuntimeWarning: divide by zero encountered in log\n",
      "  return np.sum(np.log(self.cdf(q * linpred)))\n"
     ]
    },
    {
     "ename": "LinAlgError",
     "evalue": "Singular matrix",
     "output_type": "error",
     "traceback": [
      "\u001b[0;31m---------------------------------------------------------------------------\u001b[0m",
      "\u001b[0;31mLinAlgError\u001b[0m                               Traceback (most recent call last)",
      "Cell \u001b[0;32mIn[51], line 2\u001b[0m\n\u001b[1;32m      1\u001b[0m logit_model \u001b[39m=\u001b[39m sm\u001b[39m.\u001b[39mLogit(y_train, X_train)\n\u001b[0;32m----> 2\u001b[0m result \u001b[39m=\u001b[39m logit_model\u001b[39m.\u001b[39;49mfit()\n",
      "File \u001b[0;32m~/projects/centraljersey/.venv/lib/python3.9/site-packages/statsmodels/discrete/discrete_model.py:2599\u001b[0m, in \u001b[0;36mLogit.fit\u001b[0;34m(self, start_params, method, maxiter, full_output, disp, callback, **kwargs)\u001b[0m\n\u001b[1;32m   2596\u001b[0m \u001b[39m@Appender\u001b[39m(DiscreteModel\u001b[39m.\u001b[39mfit\u001b[39m.\u001b[39m\u001b[39m__doc__\u001b[39m)\n\u001b[1;32m   2597\u001b[0m \u001b[39mdef\u001b[39;00m \u001b[39mfit\u001b[39m(\u001b[39mself\u001b[39m, start_params\u001b[39m=\u001b[39m\u001b[39mNone\u001b[39;00m, method\u001b[39m=\u001b[39m\u001b[39m'\u001b[39m\u001b[39mnewton\u001b[39m\u001b[39m'\u001b[39m, maxiter\u001b[39m=\u001b[39m\u001b[39m35\u001b[39m,\n\u001b[1;32m   2598\u001b[0m         full_output\u001b[39m=\u001b[39m\u001b[39m1\u001b[39m, disp\u001b[39m=\u001b[39m\u001b[39m1\u001b[39m, callback\u001b[39m=\u001b[39m\u001b[39mNone\u001b[39;00m, \u001b[39m*\u001b[39m\u001b[39m*\u001b[39mkwargs):\n\u001b[0;32m-> 2599\u001b[0m     bnryfit \u001b[39m=\u001b[39m \u001b[39msuper\u001b[39;49m()\u001b[39m.\u001b[39;49mfit(start_params\u001b[39m=\u001b[39;49mstart_params,\n\u001b[1;32m   2600\u001b[0m                           method\u001b[39m=\u001b[39;49mmethod,\n\u001b[1;32m   2601\u001b[0m                           maxiter\u001b[39m=\u001b[39;49mmaxiter,\n\u001b[1;32m   2602\u001b[0m                           full_output\u001b[39m=\u001b[39;49mfull_output,\n\u001b[1;32m   2603\u001b[0m                           disp\u001b[39m=\u001b[39;49mdisp,\n\u001b[1;32m   2604\u001b[0m                           callback\u001b[39m=\u001b[39;49mcallback,\n\u001b[1;32m   2605\u001b[0m                           \u001b[39m*\u001b[39;49m\u001b[39m*\u001b[39;49mkwargs)\n\u001b[1;32m   2607\u001b[0m     discretefit \u001b[39m=\u001b[39m LogitResults(\u001b[39mself\u001b[39m, bnryfit)\n\u001b[1;32m   2608\u001b[0m     \u001b[39mreturn\u001b[39;00m BinaryResultsWrapper(discretefit)\n",
      "File \u001b[0;32m~/projects/centraljersey/.venv/lib/python3.9/site-packages/statsmodels/discrete/discrete_model.py:243\u001b[0m, in \u001b[0;36mDiscreteModel.fit\u001b[0;34m(self, start_params, method, maxiter, full_output, disp, callback, **kwargs)\u001b[0m\n\u001b[1;32m    240\u001b[0m \u001b[39melse\u001b[39;00m:\n\u001b[1;32m    241\u001b[0m     \u001b[39mpass\u001b[39;00m  \u001b[39m# TODO: make a function factory to have multiple call-backs\u001b[39;00m\n\u001b[0;32m--> 243\u001b[0m mlefit \u001b[39m=\u001b[39m \u001b[39msuper\u001b[39;49m()\u001b[39m.\u001b[39;49mfit(start_params\u001b[39m=\u001b[39;49mstart_params,\n\u001b[1;32m    244\u001b[0m                      method\u001b[39m=\u001b[39;49mmethod,\n\u001b[1;32m    245\u001b[0m                      maxiter\u001b[39m=\u001b[39;49mmaxiter,\n\u001b[1;32m    246\u001b[0m                      full_output\u001b[39m=\u001b[39;49mfull_output,\n\u001b[1;32m    247\u001b[0m                      disp\u001b[39m=\u001b[39;49mdisp,\n\u001b[1;32m    248\u001b[0m                      callback\u001b[39m=\u001b[39;49mcallback,\n\u001b[1;32m    249\u001b[0m                      \u001b[39m*\u001b[39;49m\u001b[39m*\u001b[39;49mkwargs)\n\u001b[1;32m    251\u001b[0m \u001b[39mreturn\u001b[39;00m mlefit\n",
      "File \u001b[0;32m~/projects/centraljersey/.venv/lib/python3.9/site-packages/statsmodels/base/model.py:582\u001b[0m, in \u001b[0;36mLikelihoodModel.fit\u001b[0;34m(self, start_params, method, maxiter, full_output, disp, fargs, callback, retall, skip_hessian, **kwargs)\u001b[0m\n\u001b[1;32m    580\u001b[0m     Hinv \u001b[39m=\u001b[39m cov_params_func(\u001b[39mself\u001b[39m, xopt, retvals)\n\u001b[1;32m    581\u001b[0m \u001b[39melif\u001b[39;00m method \u001b[39m==\u001b[39m \u001b[39m'\u001b[39m\u001b[39mnewton\u001b[39m\u001b[39m'\u001b[39m \u001b[39mand\u001b[39;00m full_output:\n\u001b[0;32m--> 582\u001b[0m     Hinv \u001b[39m=\u001b[39m np\u001b[39m.\u001b[39;49mlinalg\u001b[39m.\u001b[39;49minv(\u001b[39m-\u001b[39;49mretvals[\u001b[39m'\u001b[39;49m\u001b[39mHessian\u001b[39;49m\u001b[39m'\u001b[39;49m]) \u001b[39m/\u001b[39m nobs\n\u001b[1;32m    583\u001b[0m \u001b[39melif\u001b[39;00m \u001b[39mnot\u001b[39;00m skip_hessian:\n\u001b[1;32m    584\u001b[0m     H \u001b[39m=\u001b[39m \u001b[39m-\u001b[39m\u001b[39m1\u001b[39m \u001b[39m*\u001b[39m \u001b[39mself\u001b[39m\u001b[39m.\u001b[39mhessian(xopt)\n",
      "File \u001b[0;32m<__array_function__ internals>:200\u001b[0m, in \u001b[0;36minv\u001b[0;34m(*args, **kwargs)\u001b[0m\n",
      "File \u001b[0;32m~/projects/centraljersey/.venv/lib/python3.9/site-packages/numpy/linalg/linalg.py:538\u001b[0m, in \u001b[0;36minv\u001b[0;34m(a)\u001b[0m\n\u001b[1;32m    536\u001b[0m signature \u001b[39m=\u001b[39m \u001b[39m'\u001b[39m\u001b[39mD->D\u001b[39m\u001b[39m'\u001b[39m \u001b[39mif\u001b[39;00m isComplexType(t) \u001b[39melse\u001b[39;00m \u001b[39m'\u001b[39m\u001b[39md->d\u001b[39m\u001b[39m'\u001b[39m\n\u001b[1;32m    537\u001b[0m extobj \u001b[39m=\u001b[39m get_linalg_error_extobj(_raise_linalgerror_singular)\n\u001b[0;32m--> 538\u001b[0m ainv \u001b[39m=\u001b[39m _umath_linalg\u001b[39m.\u001b[39;49minv(a, signature\u001b[39m=\u001b[39;49msignature, extobj\u001b[39m=\u001b[39;49mextobj)\n\u001b[1;32m    539\u001b[0m \u001b[39mreturn\u001b[39;00m wrap(ainv\u001b[39m.\u001b[39mastype(result_t, copy\u001b[39m=\u001b[39m\u001b[39mFalse\u001b[39;00m))\n",
      "File \u001b[0;32m~/projects/centraljersey/.venv/lib/python3.9/site-packages/numpy/linalg/linalg.py:89\u001b[0m, in \u001b[0;36m_raise_linalgerror_singular\u001b[0;34m(err, flag)\u001b[0m\n\u001b[1;32m     88\u001b[0m \u001b[39mdef\u001b[39;00m \u001b[39m_raise_linalgerror_singular\u001b[39m(err, flag):\n\u001b[0;32m---> 89\u001b[0m     \u001b[39mraise\u001b[39;00m LinAlgError(\u001b[39m\"\u001b[39m\u001b[39mSingular matrix\u001b[39m\u001b[39m\"\u001b[39m)\n",
      "\u001b[0;31mLinAlgError\u001b[0m: Singular matrix"
     ]
    }
   ],
   "source": [
    "logit_model = sm.Logit(y_train, X_train)\n",
    "result = logit_model.fit()"
   ]
  },
  {
   "cell_type": "code",
   "execution_count": null,
   "metadata": {},
   "outputs": [],
   "source": []
  }
 ],
 "metadata": {
  "kernelspec": {
   "display_name": ".venv",
   "language": "python",
   "name": "python3"
  },
  "language_info": {
   "codemirror_mode": {
    "name": "ipython",
    "version": 3
   },
   "file_extension": ".py",
   "mimetype": "text/x-python",
   "name": "python",
   "nbconvert_exporter": "python",
   "pygments_lexer": "ipython3",
   "version": "3.9.16"
  },
  "orig_nbformat": 4
 },
 "nbformat": 4,
 "nbformat_minor": 2
}
